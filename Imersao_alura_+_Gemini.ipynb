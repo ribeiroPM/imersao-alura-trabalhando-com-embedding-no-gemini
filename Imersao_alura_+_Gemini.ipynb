{
  "nbformat": 4,
  "nbformat_minor": 0,
  "metadata": {
    "colab": {
      "provenance": [],
      "authorship_tag": "ABX9TyPsfHCG9MAdmrZHUtTc0PSV",
      "include_colab_link": true
    },
    "kernelspec": {
      "name": "python3",
      "display_name": "Python 3"
    },
    "language_info": {
      "name": "python"
    }
  },
  "cells": [
    {
      "cell_type": "markdown",
      "metadata": {
        "id": "view-in-github",
        "colab_type": "text"
      },
      "source": [
        "<a href=\"https://colab.research.google.com/github/ribeiroPM/imersao-alura-trabalhando-com-embedding-no-gemini/blob/main/Imersao_alura_%2B_Gemini.ipynb\" target=\"_parent\"><img src=\"https://colab.research.google.com/assets/colab-badge.svg\" alt=\"Open In Colab\"/></a>"
      ]
    },
    {
      "cell_type": "code",
      "execution_count": 12,
      "metadata": {
        "id": "K2sfHF1jX_rm"
      },
      "outputs": [],
      "source": [
        "!pip install -U -q google-generativeai"
      ]
    },
    {
      "cell_type": "code",
      "source": [
        "import google.generativeai as genai\n",
        "from google.colab import userdata\n",
        "import numpy as np\n",
        "import pandas as pd"
      ],
      "metadata": {
        "id": "iKKsYgE0YG51"
      },
      "execution_count": 18,
      "outputs": []
    },
    {
      "cell_type": "code",
      "source": [
        "genai.configure(api_key=userdata.get(\"SECRET_KEY\"))"
      ],
      "metadata": {
        "id": "T5j_R-UaZFjN"
      },
      "execution_count": 19,
      "outputs": []
    },
    {
      "cell_type": "code",
      "source": [
        "for m in genai.list_models():\n",
        "  if \"embedContent\" in m.supported_generation_methods:\n",
        "    print(m.name)"
      ],
      "metadata": {
        "colab": {
          "base_uri": "https://localhost:8080/",
          "height": 52
        },
        "id": "wNvir1jxYzw7",
        "outputId": "24f5d033-b791-4680-f697-ca9e42c0975d"
      },
      "execution_count": 21,
      "outputs": [
        {
          "output_type": "stream",
          "name": "stdout",
          "text": [
            "models/embedding-001\n",
            "models/text-embedding-004\n"
          ]
        }
      ]
    },
    {
      "cell_type": "markdown",
      "source": [
        "Exemplo de embedding"
      ],
      "metadata": {
        "id": "u16wW2XKfe8r"
      }
    },
    {
      "cell_type": "code",
      "source": [
        "title = \"A próxima geração de IA para desenvolvedores e Google Workspace\"\n",
        "sample_text = (\"Título: A próxima geração de IA para desenvolvedores e Google Workspace\"\n",
        "\"\\n\"\n",
        "\"Artigo completo:\\n\"\n",
        "\"\\n\"\n",
        "\"Gemini API & Google AI Studio: Uma maneira acessível de explorar e criar protótipos com aplicações de IA Generativa\")\n",
        "\n",
        "embeddings = genai.embed_content(model=\"models/embedding-001\",\n",
        "                                 content=sample_text,\n",
        "                                 title=title,\n",
        "                                 task_type=\"RETRIEVAL_DOCUMENT\")\n",
        "\n",
        "print(embeddings)"
      ],
      "metadata": {
        "colab": {
          "base_uri": "https://localhost:8080/",
          "height": 54
        },
        "id": "PTipqNUdaMtW",
        "outputId": "a1d13e2b-01c5-48b6-bcc3-105aa2d4b481"
      },
      "execution_count": 24,
      "outputs": [
        {
          "output_type": "stream",
          "name": "stdout",
          "text": [
            "{'embedding': [0.051695187, -0.041442983, -0.019343698, 0.019464593, 0.06956335, -0.006116894, -0.024728972, -0.016281053, 0.062819764, 0.05968938, 0.012591571, 0.0096504595, -0.041477464, -0.021821093, 0.006297385, -0.027766842, 0.021912867, -0.012707868, -0.037597887, 0.0017122694, 0.005586409, 0.013046058, -0.03308746, -0.064576425, -0.017424725, 0.019762311, 0.017854266, -0.042435847, -0.032922443, 0.020713378, -0.05301139, 0.049721852, -0.03517479, 0.010137819, -0.0361372, -0.03999793, -0.024803909, -0.04170757, -0.0046900515, -0.003796091, 0.008689075, -0.08128639, -0.008954811, 0.027651004, -0.004756691, -0.023469467, 0.04881289, 0.043942768, 0.016964046, -0.05942773, 0.025520364, 0.023143867, 0.06688943, -0.036708225, -0.0062442343, -0.004619986, 0.018435458, -0.029508712, 0.024384363, -0.00015550749, -0.0021994219, 0.020010768, -0.022182012, 0.05437953, 0.014916039, -0.05868482, -0.035565536, -0.0024698868, 0.008770072, 0.049611915, 0.010535139, 0.015531932, 0.058446933, -0.060580827, -0.039682176, -0.11178379, -0.044154774, 0.042008433, -0.0026772532, 0.016469507, 0.02293655, -0.07567102, -0.04919099, -0.035013277, -0.01814972, 0.037310906, -0.057805814, -0.023620414, 0.038406994, 0.0041278177, 0.011827222, -0.02989518, 0.05572353, -0.04741293, -0.003610021, 0.08725904, -0.059909448, -0.018062856, -0.004584432, -0.08491837, -0.016362494, 0.0027517434, -0.05205542, 0.017132, 0.022868467, 0.031231757, -0.0148034785, 0.017432522, -0.048129097, 0.10765621, -0.033031117, -0.010930831, 0.023845328, -0.059588876, 0.046167374, -0.024024295, 0.014468777, 0.041030403, 0.001894669, 0.053291712, 0.048434455, 0.030550778, 0.03377018, 0.00096691377, -0.03891029, 0.028671121, -0.037324157, 0.016485306, 0.06040392, 0.04594495, 0.014189162, -0.04755046, -0.030459465, 0.046022158, 0.042169772, 0.04063374, 0.015294026, -0.018201536, 0.044438973, 0.06178817, -0.00037675805, 0.043570522, -0.0029025015, -0.014897956, -0.006466666, 0.08277817, -0.07468772, -0.0074612657, 0.031448472, -0.005392604, -0.03813804, 0.008390213, -0.08725896, 0.055896886, 0.043895796, 0.02442265, -0.035925176, 0.06419147, 0.022334075, 0.013048509, 0.03611502, -0.010297678, 0.004454915, 0.0043533803, -0.023755493, -0.023461405, -0.00847677, 0.004655117, 0.016076764, 0.036317643, 0.006800379, 0.014825242, -0.03042564, -0.054773472, -0.009262884, -0.034349095, 0.003471072, -0.0036621906, -0.040531337, 0.018895281, -0.037282273, -0.06112035, 0.041771423, 0.027521431, 0.0022282673, -0.027597006, 0.047960896, -0.024718584, -0.07735648, 0.04021608, -0.0030376152, -0.028052634, -0.016921274, 0.005066615, -0.030113382, 0.037666008, 0.025181517, 0.02687838, 0.0081060035, -0.025670163, 0.00441783, 0.06227458, 0.03739196, 0.00796046, 0.0016882895, 0.046492945, 0.08120676, -0.017419526, -0.03713097, 0.030020451, -0.040930305, 0.0035710547, 0.025990626, 0.033952028, 0.025235767, -0.020992013, -0.00080996676, -0.0027093978, -0.031016087, -0.047628183, -0.022414196, -0.0043913187, -0.033323288, -0.013895684, -0.030056622, 0.07283027, -0.05875708, 0.06389283, 0.047730897, -0.0717122, 0.01707662, 0.070431076, 0.064339764, -0.006356806, 0.046437167, 0.014684018, 0.014067138, 0.01606837, 0.031137595, 0.04360401, -0.03270226, 0.054768078, 0.043361425, 0.041704755, -0.05533802, 0.007356022, 0.010007079, 0.058270372, 0.0007215384, 0.03768691, -0.0111251185, -0.048152234, -0.04574724, 0.06522151, -0.023160322, -0.0062311287, -0.0716725, -0.0682668, 0.06110095, 1.225476e-05, 0.071574606, -0.050301023, 0.010231252, -0.0006587254, 0.0044538965, -0.05161965, 0.021252986, 0.039908316, -0.026393045, 0.037598196, -0.019521581, -0.060252808, 0.05124099, 0.058364257, -0.0011975251, 0.028938588, -0.00096754736, 0.03159717, 0.059636515, -0.08819981, 0.0066967574, 0.045605116, 0.010378297, -0.07213491, -0.04904088, -0.0035443555, -0.016739592, -0.04852959, -0.011963039, -0.05455228, -0.074243985, 0.038782984, -0.007473553, 0.020563737, -0.056432128, 0.0015760938, -0.035344232, 0.036448985, 0.051643472, -0.016541176, -0.019801782, -0.07086442, -0.027395109, -0.07789526, -0.014170473, -0.037356015, -0.013678639, -0.060411077, 0.05121397, 0.047766887, 0.0063273213, -0.035398614, -0.0069751367, 0.011769896, 0.08443183, 0.046972334, -0.037812613, 0.008256872, -0.008598706, 0.049602292, 0.002553666, 0.0019232723, -0.006217658, 0.0005123269, -0.021334868, 0.0508679, -0.031576876, -0.0047020535, -0.012312168, 0.024811411, -0.014915561, -0.005056094, -0.020866482, 0.042731684, 0.06278518, -0.0005318144, -0.060843673, 0.009844348, -0.014545047, -0.037679248, -0.0076167444, -0.01390088, 0.00087936956, -0.04381068, 0.02975319, 0.006237177, -0.10185396, -0.011561091, 0.064181216, 0.0069914144, -0.0032821249, 0.055725213, -0.019383043, -0.02548704, -0.009399599, -0.024983177, 0.036038667, 0.025651108, 0.069018304, -0.036191657, -0.007608826, 0.0491252, -0.008664126, 0.011731209, 0.014161811, 0.05161211, 0.013351102, -0.00659374, -0.005483841, 0.01371247, 0.0083081145, -0.035095215, 0.018677546, -0.02012885, 0.011800298, 0.0025133998, -0.029839134, -0.066253774, -0.00441459, 0.028837537, -0.02697124, -0.04910626, 0.038458716, 0.051251125, -0.012443998, 0.005205454, 0.036461767, 0.06142195, 0.008972906, 0.05158785, 0.023809398, 0.0024030788, 0.09306283, 0.025305288, 0.023137791, 0.019637879, -0.0071696155, -0.032869864, 0.032055754, -0.022410167, -0.010568281, -0.048773058, -0.021122735, -0.017191838, -0.023497127, 0.00045036027, -0.03582786, -0.03102027, -0.053731494, -0.044984013, 0.02176496, 0.0018022942, 0.055423237, -0.06778644, -0.0549635, -0.009149418, 0.008803295, -0.021251798, -0.012321296, -0.017063787, -0.01008184, 0.018710896, 0.028761413, -0.030188408, -0.050041128, -0.0013128823, 0.014002738, -0.053086262, 0.009821101, 0.020679295, 0.017003143, 0.018770676, 0.010090762, 0.011215826, -0.018814772, -0.03959765, 0.0034661717, 0.00772138, -0.009988294, 0.027501406, 0.034584846, -0.021461086, -0.0068419976, -0.0016660899, -0.061134983, -0.05487394, 0.0032287426, 0.0030327663, 0.046250857, -0.052970376, 0.009361975, -0.048166946, -0.0389735, -0.045853756, -0.025290038, 0.010900854, 0.022491831, 0.017359225, -0.010992363, 0.009771095, 0.011922641, -0.031121258, -0.012991234, -0.017120436, 0.05201567, -0.00803373, -0.0010007677, -0.006278907, 0.017712433, 0.02709756, 0.020975545, -0.088324286, 0.03706961, -0.013910744, 0.020092642, 0.017211966, -0.055880263, 0.037879698, -0.02559337, 0.014386979, -0.03035036, 0.017438639, 0.026634397, -0.0146304825, -0.0144088445, -0.036652964, 0.018981993, 0.0011708082, 0.011594106, 0.013848571, 0.024701906, 0.03006599, -0.049099155, -0.059287973, -0.01804587, -0.016997604, -0.04405357, 0.014667961, 0.048110124, 0.021765927, -0.012181047, -0.02203207, -0.022690888, 0.026980579, 0.04156254, -0.033765815, 0.024778476, -0.01636396, 0.0031897156, -0.03927687, -0.01527892, -0.008591778, 0.011441765, -0.041746967, 0.07889285, -0.03737032, -0.0145968925, 0.03219789, 0.029106755, -0.009681473, 0.06771963, 0.035100747, -0.05997662, 0.003856917, 0.018438792, -0.044996608, 0.013387407, -0.007812744, 0.008045348, 0.027636643, -0.02447322, 0.06546689, -0.004063985, -0.044427935, 0.014735805, 0.012239755, 0.054814942, -0.010939367, -0.030502014, 0.017591149, 0.0036148624, -0.06641482, 0.03622516, 0.019694792, -0.03349209, -0.008099683, -0.007953698, -0.057328653, 0.013640225, -0.017263753, -0.017491419, 0.0062476993, -0.0037618568, 0.02468117, 0.03567918, -0.043811206, -0.0010296435, -0.019631438, 0.043869697, 0.021942856, 0.029804055, -0.005892015, -0.020026479, 0.0029434331, 0.061626207, -0.00096253643, -0.01653475, -0.017674498, 0.024492448, -0.024984008, 0.0059683705, 0.012511291, 0.01845675, 0.0073476047, 0.05237674, -0.0102129895, -0.038490184, -0.023780067, -0.049098507, 0.041991692, 0.03924687, 0.000554999, -0.03195679, 0.045647323, -0.040238112, -0.0035283081, 0.009818426, 0.032162774, 0.04788954, 0.023270175, -0.046988256, 0.06015422, 0.00847523, 0.022925308, 0.023880905, -0.007895295, 0.023912357, -0.010701568, 0.030030696, 0.05761042, -0.027424872, -0.0384162, 0.054217074, -0.00893144, -0.019785943, 0.013152501, -0.0047710594, 0.013102791, 0.019867305, -0.0021400277, 0.008242382, -0.091916226, 0.0161501, -0.034633704, -0.055988133, -0.019349182, 0.026345465, 0.019080825, -0.02979968, -0.009436565, 0.044907898, 0.032949805, 0.028343355, 0.03217467, 0.024875488, 0.025742134, -0.063349806, 0.017564587, 0.054380953, 0.04876155, 0.05756462, 0.059410278, 0.013273083, -0.041996904, -0.055531308, -0.004754279, 0.02020145, 0.0598027, -0.013977051, -0.04009038, -0.046730727, -0.009495395, -0.018167162, -0.027710559, -0.036336657, 0.006089941, -0.01462548, -0.07268708, -0.06356989, 0.0077974275, -0.0006100535, 0.0073076715, 0.009092838, 0.0020580573, 0.039752536, 0.008012453, -0.067967206, -0.052922115, 0.021780577, -0.026448773, -0.06538267, 0.012761322, -0.0016529358, -0.0034857905, -0.056722134, -0.03380939, -0.06621649, -0.08883049, -0.0480343, 0.029076666, -0.03466835, 0.046872787, 0.028735962, -0.010963388, 0.024468705, 0.06377913, 0.0094728945, -0.0051020742, -0.0021073334, -0.025753958, 0.004056979, -0.02961841, 0.0041282363, 0.0064423643, -0.024346795, 0.01799687, 0.04499872, 0.004045646, -0.007567795, -0.015144198, -0.017967485, -0.038429067, -0.0068051927, -0.017283278, -0.013898611, -0.043043625, -0.033476125, -0.055085894, 0.059512854, 0.041851673, -0.019780029, -0.01269738, -0.021137584, -0.02636313, -0.005892228, -0.013752912, -0.04028735, -0.0023351794, -0.02940314, 0.05769809, 0.06410202, -0.042253695, -0.0878558, 0.021961577, -0.03477854, 0.01189453, -0.038602605, 0.00018502807, -0.0139085, 0.032424066, 0.002544345, -0.0082074255, 0.0072216, -0.040590048, -0.08329676, 0.018857028, -0.030789219, 0.01437552, -0.027600147, 0.005143702, 0.06946223, -0.0039722584, -0.050557245, 0.00406449, -0.016180983, 0.011199308, -0.03722192, 0.05469391, -0.042120878, -0.0774071, -0.034459215, -0.018836511, -0.014880635, 0.06107344, 0.0322853, -0.028432995, 0.0034028057, -0.0076382775, -0.01456496, -0.07104853, -0.032285266, -0.022138804, -0.008705277, 0.037174784, -0.008465619, -0.00664976, -0.0010381391, -0.032683976, 0.0054051224, 0.008729245, -0.040980335, -0.0380512, 0.009972094, -0.02638182, 0.0068676216, 0.093282856, -0.057164606, 0.008460355]}\n"
          ]
        }
      ]
    },
    {
      "cell_type": "markdown",
      "source": [
        "Exemplos de documentos que serão testados"
      ],
      "metadata": {
        "id": "KEzYGWmogqag"
      }
    },
    {
      "cell_type": "code",
      "source": [
        "DOCUMENT1 = {\n",
        "    \"Título\": \"Operação do sistema de controle climático\",\n",
        "    \"Conteúdo\": \"O Googlecar tem um sistema de controle climático que permite ajustar a temperatura e o fluxo de ar no carro. Para operar o sistema de controle climático, use os botões e botões localizados no console central.  Temperatura: O botão de temperatura controla a temperatura dentro do carro. Gire o botão no sentido horário para aumentar a temperatura ou no sentido anti-horário para diminuir a temperatura. Fluxo de ar: O botão de fluxo de ar controla a quantidade de fluxo de ar dentro do carro. Gire o botão no sentido horário para aumentar o fluxo de ar ou no sentido anti-horário para diminuir o fluxo de ar. Velocidade do ventilador: O botão de velocidade do ventilador controla a velocidade do ventilador. Gire o botão no sentido horário para aumentar a velocidade do ventilador ou no sentido anti-horário para diminuir a velocidade do ventilador. Modo: O botão de modo permite que você selecione o modo desejado. Os modos disponíveis são: Auto: O carro ajustará automaticamente a temperatura e o fluxo de ar para manter um nível confortável. Cool (Frio): O carro soprará ar frio para dentro do carro. Heat: O carro soprará ar quente para dentro do carro. Defrost (Descongelamento): O carro soprará ar quente no para-brisa para descongelá-lo.\"}\n",
        "\n",
        "DOCUMENT2 = {\n",
        "    \"Título\": \"Touchscreen\",\n",
        "    \"Conteúdo\": \"O seu Googlecar tem uma grande tela sensível ao toque que fornece acesso a uma variedade de recursos, incluindo navegação, entretenimento e controle climático. Para usar a tela sensível ao toque, basta tocar no ícone desejado.  Por exemplo, você pode tocar no ícone \\\"Navigation\\\" (Navegação) para obter direções para o seu destino ou tocar no ícone \\\"Music\\\" (Música) para reproduzir suas músicas favoritas.\"}\n",
        "\n",
        "DOCUMENT3 = {\n",
        "    \"Título\": \"Mudança de marchas\",\n",
        "    \"Conteúdo\": \"Seu Googlecar tem uma transmissão automática. Para trocar as marchas, basta mover a alavanca de câmbio para a posição desejada.  Park (Estacionar): Essa posição é usada quando você está estacionado. As rodas são travadas e o carro não pode se mover. Marcha à ré: Essa posição é usada para dar ré. Neutro: Essa posição é usada quando você está parado em um semáforo ou no trânsito. O carro não está em marcha e não se moverá a menos que você pressione o pedal do acelerador. Drive (Dirigir): Essa posição é usada para dirigir para frente. Low: essa posição é usada para dirigir na neve ou em outras condições escorregadias.\"}\n",
        "\n",
        "documents = [DOCUMENT1, DOCUMENT2, DOCUMENT3]"
      ],
      "metadata": {
        "id": "400cxDLAgEeM"
      },
      "execution_count": 25,
      "outputs": []
    },
    {
      "cell_type": "markdown",
      "source": [
        "Criando o dataframe com pandas"
      ],
      "metadata": {
        "id": "GMc28BrFhUSq"
      }
    },
    {
      "cell_type": "code",
      "source": [
        "df = pd.DataFrame(documents) # Criando uma tabela com panda, tipo excel\n",
        "df.columns = [\"Titulo\", \"Conteudo\"] # Alterando o titulo das colunas\n",
        "df"
      ],
      "metadata": {
        "colab": {
          "base_uri": "https://localhost:8080/",
          "height": 196
        },
        "id": "6kGCnijAhCgq",
        "outputId": "4e7c8959-f212-447c-f73c-f77e47a9cd64"
      },
      "execution_count": 32,
      "outputs": [
        {
          "output_type": "execute_result",
          "data": {
            "text/plain": [
              "                                      Titulo  \\\n",
              "0  Operação do sistema de controle climático   \n",
              "1                                Touchscreen   \n",
              "2                         Mudança de marchas   \n",
              "\n",
              "                                            Conteudo  \n",
              "0  O Googlecar tem um sistema de controle climáti...  \n",
              "1  O seu Googlecar tem uma grande tela sensível a...  \n",
              "2  Seu Googlecar tem uma transmissão automática. ...  "
            ],
            "text/html": [
              "\n",
              "  <div id=\"df-2f39d15d-538f-4ea8-8277-fdb33555ab8c\" class=\"colab-df-container\">\n",
              "    <div>\n",
              "<style scoped>\n",
              "    .dataframe tbody tr th:only-of-type {\n",
              "        vertical-align: middle;\n",
              "    }\n",
              "\n",
              "    .dataframe tbody tr th {\n",
              "        vertical-align: top;\n",
              "    }\n",
              "\n",
              "    .dataframe thead th {\n",
              "        text-align: right;\n",
              "    }\n",
              "</style>\n",
              "<table border=\"1\" class=\"dataframe\">\n",
              "  <thead>\n",
              "    <tr style=\"text-align: right;\">\n",
              "      <th></th>\n",
              "      <th>Titulo</th>\n",
              "      <th>Conteudo</th>\n",
              "    </tr>\n",
              "  </thead>\n",
              "  <tbody>\n",
              "    <tr>\n",
              "      <th>0</th>\n",
              "      <td>Operação do sistema de controle climático</td>\n",
              "      <td>O Googlecar tem um sistema de controle climáti...</td>\n",
              "    </tr>\n",
              "    <tr>\n",
              "      <th>1</th>\n",
              "      <td>Touchscreen</td>\n",
              "      <td>O seu Googlecar tem uma grande tela sensível a...</td>\n",
              "    </tr>\n",
              "    <tr>\n",
              "      <th>2</th>\n",
              "      <td>Mudança de marchas</td>\n",
              "      <td>Seu Googlecar tem uma transmissão automática. ...</td>\n",
              "    </tr>\n",
              "  </tbody>\n",
              "</table>\n",
              "</div>\n",
              "    <div class=\"colab-df-buttons\">\n",
              "\n",
              "  <div class=\"colab-df-container\">\n",
              "    <button class=\"colab-df-convert\" onclick=\"convertToInteractive('df-2f39d15d-538f-4ea8-8277-fdb33555ab8c')\"\n",
              "            title=\"Convert this dataframe to an interactive table.\"\n",
              "            style=\"display:none;\">\n",
              "\n",
              "  <svg xmlns=\"http://www.w3.org/2000/svg\" height=\"24px\" viewBox=\"0 -960 960 960\">\n",
              "    <path d=\"M120-120v-720h720v720H120Zm60-500h600v-160H180v160Zm220 220h160v-160H400v160Zm0 220h160v-160H400v160ZM180-400h160v-160H180v160Zm440 0h160v-160H620v160ZM180-180h160v-160H180v160Zm440 0h160v-160H620v160Z\"/>\n",
              "  </svg>\n",
              "    </button>\n",
              "\n",
              "  <style>\n",
              "    .colab-df-container {\n",
              "      display:flex;\n",
              "      gap: 12px;\n",
              "    }\n",
              "\n",
              "    .colab-df-convert {\n",
              "      background-color: #E8F0FE;\n",
              "      border: none;\n",
              "      border-radius: 50%;\n",
              "      cursor: pointer;\n",
              "      display: none;\n",
              "      fill: #1967D2;\n",
              "      height: 32px;\n",
              "      padding: 0 0 0 0;\n",
              "      width: 32px;\n",
              "    }\n",
              "\n",
              "    .colab-df-convert:hover {\n",
              "      background-color: #E2EBFA;\n",
              "      box-shadow: 0px 1px 2px rgba(60, 64, 67, 0.3), 0px 1px 3px 1px rgba(60, 64, 67, 0.15);\n",
              "      fill: #174EA6;\n",
              "    }\n",
              "\n",
              "    .colab-df-buttons div {\n",
              "      margin-bottom: 4px;\n",
              "    }\n",
              "\n",
              "    [theme=dark] .colab-df-convert {\n",
              "      background-color: #3B4455;\n",
              "      fill: #D2E3FC;\n",
              "    }\n",
              "\n",
              "    [theme=dark] .colab-df-convert:hover {\n",
              "      background-color: #434B5C;\n",
              "      box-shadow: 0px 1px 3px 1px rgba(0, 0, 0, 0.15);\n",
              "      filter: drop-shadow(0px 1px 2px rgba(0, 0, 0, 0.3));\n",
              "      fill: #FFFFFF;\n",
              "    }\n",
              "  </style>\n",
              "\n",
              "    <script>\n",
              "      const buttonEl =\n",
              "        document.querySelector('#df-2f39d15d-538f-4ea8-8277-fdb33555ab8c button.colab-df-convert');\n",
              "      buttonEl.style.display =\n",
              "        google.colab.kernel.accessAllowed ? 'block' : 'none';\n",
              "\n",
              "      async function convertToInteractive(key) {\n",
              "        const element = document.querySelector('#df-2f39d15d-538f-4ea8-8277-fdb33555ab8c');\n",
              "        const dataTable =\n",
              "          await google.colab.kernel.invokeFunction('convertToInteractive',\n",
              "                                                    [key], {});\n",
              "        if (!dataTable) return;\n",
              "\n",
              "        const docLinkHtml = 'Like what you see? Visit the ' +\n",
              "          '<a target=\"_blank\" href=https://colab.research.google.com/notebooks/data_table.ipynb>data table notebook</a>'\n",
              "          + ' to learn more about interactive tables.';\n",
              "        element.innerHTML = '';\n",
              "        dataTable['output_type'] = 'display_data';\n",
              "        await google.colab.output.renderOutput(dataTable, element);\n",
              "        const docLink = document.createElement('div');\n",
              "        docLink.innerHTML = docLinkHtml;\n",
              "        element.appendChild(docLink);\n",
              "      }\n",
              "    </script>\n",
              "  </div>\n",
              "\n",
              "\n",
              "<div id=\"df-915ee24c-be16-466d-8593-ac5b5ab77583\">\n",
              "  <button class=\"colab-df-quickchart\" onclick=\"quickchart('df-915ee24c-be16-466d-8593-ac5b5ab77583')\"\n",
              "            title=\"Suggest charts\"\n",
              "            style=\"display:none;\">\n",
              "\n",
              "<svg xmlns=\"http://www.w3.org/2000/svg\" height=\"24px\"viewBox=\"0 0 24 24\"\n",
              "     width=\"24px\">\n",
              "    <g>\n",
              "        <path d=\"M19 3H5c-1.1 0-2 .9-2 2v14c0 1.1.9 2 2 2h14c1.1 0 2-.9 2-2V5c0-1.1-.9-2-2-2zM9 17H7v-7h2v7zm4 0h-2V7h2v10zm4 0h-2v-4h2v4z\"/>\n",
              "    </g>\n",
              "</svg>\n",
              "  </button>\n",
              "\n",
              "<style>\n",
              "  .colab-df-quickchart {\n",
              "      --bg-color: #E8F0FE;\n",
              "      --fill-color: #1967D2;\n",
              "      --hover-bg-color: #E2EBFA;\n",
              "      --hover-fill-color: #174EA6;\n",
              "      --disabled-fill-color: #AAA;\n",
              "      --disabled-bg-color: #DDD;\n",
              "  }\n",
              "\n",
              "  [theme=dark] .colab-df-quickchart {\n",
              "      --bg-color: #3B4455;\n",
              "      --fill-color: #D2E3FC;\n",
              "      --hover-bg-color: #434B5C;\n",
              "      --hover-fill-color: #FFFFFF;\n",
              "      --disabled-bg-color: #3B4455;\n",
              "      --disabled-fill-color: #666;\n",
              "  }\n",
              "\n",
              "  .colab-df-quickchart {\n",
              "    background-color: var(--bg-color);\n",
              "    border: none;\n",
              "    border-radius: 50%;\n",
              "    cursor: pointer;\n",
              "    display: none;\n",
              "    fill: var(--fill-color);\n",
              "    height: 32px;\n",
              "    padding: 0;\n",
              "    width: 32px;\n",
              "  }\n",
              "\n",
              "  .colab-df-quickchart:hover {\n",
              "    background-color: var(--hover-bg-color);\n",
              "    box-shadow: 0 1px 2px rgba(60, 64, 67, 0.3), 0 1px 3px 1px rgba(60, 64, 67, 0.15);\n",
              "    fill: var(--button-hover-fill-color);\n",
              "  }\n",
              "\n",
              "  .colab-df-quickchart-complete:disabled,\n",
              "  .colab-df-quickchart-complete:disabled:hover {\n",
              "    background-color: var(--disabled-bg-color);\n",
              "    fill: var(--disabled-fill-color);\n",
              "    box-shadow: none;\n",
              "  }\n",
              "\n",
              "  .colab-df-spinner {\n",
              "    border: 2px solid var(--fill-color);\n",
              "    border-color: transparent;\n",
              "    border-bottom-color: var(--fill-color);\n",
              "    animation:\n",
              "      spin 1s steps(1) infinite;\n",
              "  }\n",
              "\n",
              "  @keyframes spin {\n",
              "    0% {\n",
              "      border-color: transparent;\n",
              "      border-bottom-color: var(--fill-color);\n",
              "      border-left-color: var(--fill-color);\n",
              "    }\n",
              "    20% {\n",
              "      border-color: transparent;\n",
              "      border-left-color: var(--fill-color);\n",
              "      border-top-color: var(--fill-color);\n",
              "    }\n",
              "    30% {\n",
              "      border-color: transparent;\n",
              "      border-left-color: var(--fill-color);\n",
              "      border-top-color: var(--fill-color);\n",
              "      border-right-color: var(--fill-color);\n",
              "    }\n",
              "    40% {\n",
              "      border-color: transparent;\n",
              "      border-right-color: var(--fill-color);\n",
              "      border-top-color: var(--fill-color);\n",
              "    }\n",
              "    60% {\n",
              "      border-color: transparent;\n",
              "      border-right-color: var(--fill-color);\n",
              "    }\n",
              "    80% {\n",
              "      border-color: transparent;\n",
              "      border-right-color: var(--fill-color);\n",
              "      border-bottom-color: var(--fill-color);\n",
              "    }\n",
              "    90% {\n",
              "      border-color: transparent;\n",
              "      border-bottom-color: var(--fill-color);\n",
              "    }\n",
              "  }\n",
              "</style>\n",
              "\n",
              "  <script>\n",
              "    async function quickchart(key) {\n",
              "      const quickchartButtonEl =\n",
              "        document.querySelector('#' + key + ' button');\n",
              "      quickchartButtonEl.disabled = true;  // To prevent multiple clicks.\n",
              "      quickchartButtonEl.classList.add('colab-df-spinner');\n",
              "      try {\n",
              "        const charts = await google.colab.kernel.invokeFunction(\n",
              "            'suggestCharts', [key], {});\n",
              "      } catch (error) {\n",
              "        console.error('Error during call to suggestCharts:', error);\n",
              "      }\n",
              "      quickchartButtonEl.classList.remove('colab-df-spinner');\n",
              "      quickchartButtonEl.classList.add('colab-df-quickchart-complete');\n",
              "    }\n",
              "    (() => {\n",
              "      let quickchartButtonEl =\n",
              "        document.querySelector('#df-915ee24c-be16-466d-8593-ac5b5ab77583 button');\n",
              "      quickchartButtonEl.style.display =\n",
              "        google.colab.kernel.accessAllowed ? 'block' : 'none';\n",
              "    })();\n",
              "  </script>\n",
              "</div>\n",
              "\n",
              "  <div id=\"id_e9da9ae3-7fb6-4c0a-a139-68d2c67edf35\">\n",
              "    <style>\n",
              "      .colab-df-generate {\n",
              "        background-color: #E8F0FE;\n",
              "        border: none;\n",
              "        border-radius: 50%;\n",
              "        cursor: pointer;\n",
              "        display: none;\n",
              "        fill: #1967D2;\n",
              "        height: 32px;\n",
              "        padding: 0 0 0 0;\n",
              "        width: 32px;\n",
              "      }\n",
              "\n",
              "      .colab-df-generate:hover {\n",
              "        background-color: #E2EBFA;\n",
              "        box-shadow: 0px 1px 2px rgba(60, 64, 67, 0.3), 0px 1px 3px 1px rgba(60, 64, 67, 0.15);\n",
              "        fill: #174EA6;\n",
              "      }\n",
              "\n",
              "      [theme=dark] .colab-df-generate {\n",
              "        background-color: #3B4455;\n",
              "        fill: #D2E3FC;\n",
              "      }\n",
              "\n",
              "      [theme=dark] .colab-df-generate:hover {\n",
              "        background-color: #434B5C;\n",
              "        box-shadow: 0px 1px 3px 1px rgba(0, 0, 0, 0.15);\n",
              "        filter: drop-shadow(0px 1px 2px rgba(0, 0, 0, 0.3));\n",
              "        fill: #FFFFFF;\n",
              "      }\n",
              "    </style>\n",
              "    <button class=\"colab-df-generate\" onclick=\"generateWithVariable('df')\"\n",
              "            title=\"Generate code using this dataframe.\"\n",
              "            style=\"display:none;\">\n",
              "\n",
              "  <svg xmlns=\"http://www.w3.org/2000/svg\" height=\"24px\"viewBox=\"0 0 24 24\"\n",
              "       width=\"24px\">\n",
              "    <path d=\"M7,19H8.4L18.45,9,17,7.55,7,17.6ZM5,21V16.75L18.45,3.32a2,2,0,0,1,2.83,0l1.4,1.43a1.91,1.91,0,0,1,.58,1.4,1.91,1.91,0,0,1-.58,1.4L9.25,21ZM18.45,9,17,7.55Zm-12,3A5.31,5.31,0,0,0,4.9,8.1,5.31,5.31,0,0,0,1,6.5,5.31,5.31,0,0,0,4.9,4.9,5.31,5.31,0,0,0,6.5,1,5.31,5.31,0,0,0,8.1,4.9,5.31,5.31,0,0,0,12,6.5,5.46,5.46,0,0,0,6.5,12Z\"/>\n",
              "  </svg>\n",
              "    </button>\n",
              "    <script>\n",
              "      (() => {\n",
              "      const buttonEl =\n",
              "        document.querySelector('#id_e9da9ae3-7fb6-4c0a-a139-68d2c67edf35 button.colab-df-generate');\n",
              "      buttonEl.style.display =\n",
              "        google.colab.kernel.accessAllowed ? 'block' : 'none';\n",
              "\n",
              "      buttonEl.onclick = () => {\n",
              "        google.colab.notebook.generateWithVariable('df');\n",
              "      }\n",
              "      })();\n",
              "    </script>\n",
              "  </div>\n",
              "\n",
              "    </div>\n",
              "  </div>\n"
            ],
            "application/vnd.google.colaboratory.intrinsic+json": {
              "type": "dataframe",
              "variable_name": "df",
              "summary": "{\n  \"name\": \"df\",\n  \"rows\": 3,\n  \"fields\": [\n    {\n      \"column\": \"Titulo\",\n      \"properties\": {\n        \"dtype\": \"string\",\n        \"num_unique_values\": 3,\n        \"samples\": [\n          \"Opera\\u00e7\\u00e3o do sistema de controle clim\\u00e1tico\",\n          \"Touchscreen\",\n          \"Mudan\\u00e7a de marchas\"\n        ],\n        \"semantic_type\": \"\",\n        \"description\": \"\"\n      }\n    },\n    {\n      \"column\": \"Conteudo\",\n      \"properties\": {\n        \"dtype\": \"string\",\n        \"num_unique_values\": 3,\n        \"samples\": [\n          \"O Googlecar tem um sistema de controle clim\\u00e1tico que permite ajustar a temperatura e o fluxo de ar no carro. Para operar o sistema de controle clim\\u00e1tico, use os bot\\u00f5es e bot\\u00f5es localizados no console central.  Temperatura: O bot\\u00e3o de temperatura controla a temperatura dentro do carro. Gire o bot\\u00e3o no sentido hor\\u00e1rio para aumentar a temperatura ou no sentido anti-hor\\u00e1rio para diminuir a temperatura. Fluxo de ar: O bot\\u00e3o de fluxo de ar controla a quantidade de fluxo de ar dentro do carro. Gire o bot\\u00e3o no sentido hor\\u00e1rio para aumentar o fluxo de ar ou no sentido anti-hor\\u00e1rio para diminuir o fluxo de ar. Velocidade do ventilador: O bot\\u00e3o de velocidade do ventilador controla a velocidade do ventilador. Gire o bot\\u00e3o no sentido hor\\u00e1rio para aumentar a velocidade do ventilador ou no sentido anti-hor\\u00e1rio para diminuir a velocidade do ventilador. Modo: O bot\\u00e3o de modo permite que voc\\u00ea selecione o modo desejado. Os modos dispon\\u00edveis s\\u00e3o: Auto: O carro ajustar\\u00e1 automaticamente a temperatura e o fluxo de ar para manter um n\\u00edvel confort\\u00e1vel. Cool (Frio): O carro soprar\\u00e1 ar frio para dentro do carro. Heat: O carro soprar\\u00e1 ar quente para dentro do carro. Defrost (Descongelamento): O carro soprar\\u00e1 ar quente no para-brisa para descongel\\u00e1-lo.\",\n          \"O seu Googlecar tem uma grande tela sens\\u00edvel ao toque que fornece acesso a uma variedade de recursos, incluindo navega\\u00e7\\u00e3o, entretenimento e controle clim\\u00e1tico. Para usar a tela sens\\u00edvel ao toque, basta tocar no \\u00edcone desejado.  Por exemplo, voc\\u00ea pode tocar no \\u00edcone \\\"Navigation\\\" (Navega\\u00e7\\u00e3o) para obter dire\\u00e7\\u00f5es para o seu destino ou tocar no \\u00edcone \\\"Music\\\" (M\\u00fasica) para reproduzir suas m\\u00fasicas favoritas.\",\n          \"Seu Googlecar tem uma transmiss\\u00e3o autom\\u00e1tica. Para trocar as marchas, basta mover a alavanca de c\\u00e2mbio para a posi\\u00e7\\u00e3o desejada.  Park (Estacionar): Essa posi\\u00e7\\u00e3o \\u00e9 usada quando voc\\u00ea est\\u00e1 estacionado. As rodas s\\u00e3o travadas e o carro n\\u00e3o pode se mover. Marcha \\u00e0 r\\u00e9: Essa posi\\u00e7\\u00e3o \\u00e9 usada para dar r\\u00e9. Neutro: Essa posi\\u00e7\\u00e3o \\u00e9 usada quando voc\\u00ea est\\u00e1 parado em um sem\\u00e1foro ou no tr\\u00e2nsito. O carro n\\u00e3o est\\u00e1 em marcha e n\\u00e3o se mover\\u00e1 a menos que voc\\u00ea pressione o pedal do acelerador. Drive (Dirigir): Essa posi\\u00e7\\u00e3o \\u00e9 usada para dirigir para frente. Low: essa posi\\u00e7\\u00e3o \\u00e9 usada para dirigir na neve ou em outras condi\\u00e7\\u00f5es escorregadias.\"\n        ],\n        \"semantic_type\": \"\",\n        \"description\": \"\"\n      }\n    }\n  ]\n}"
            }
          },
          "metadata": {},
          "execution_count": 32
        }
      ]
    },
    {
      "cell_type": "markdown",
      "source": [
        "Selecionando o modelo para fazer os embeddings"
      ],
      "metadata": {
        "id": "mfeM-9DmiKTk"
      }
    },
    {
      "cell_type": "code",
      "source": [
        "model = \"models/embedding-001\""
      ],
      "metadata": {
        "id": "ykbVSu2rheAu"
      },
      "execution_count": 28,
      "outputs": []
    },
    {
      "cell_type": "markdown",
      "source": [
        "Criando função para correr linha a linha do dataframe e criar um embedding para cada um"
      ],
      "metadata": {
        "id": "p_7j9KXUiTBi"
      }
    },
    {
      "cell_type": "code",
      "source": [
        "def embed_fn(title, text):\n",
        "  return genai.embed_content(model=model,\n",
        "                            content=text,\n",
        "                            title=title,\n",
        "                            task_type=\"RETRIEVAL_DOCUMENT\")[\"embedding\"]\n",
        "\n"
      ],
      "metadata": {
        "id": "B3XUH6uJiRCZ"
      },
      "execution_count": 35,
      "outputs": []
    },
    {
      "cell_type": "markdown",
      "source": [
        "Rolando a tabela pela função acima para criar um embedding para cada uma das linhas"
      ],
      "metadata": {
        "id": "vWtybaFtkez0"
      }
    },
    {
      "cell_type": "code",
      "source": [
        "df[\"embeddings\"] = df.apply(lambda row: embed_fn(row[\"Titulo\"], row[\"Conteudo\"]), axis=1)\n",
        "df"
      ],
      "metadata": {
        "colab": {
          "base_uri": "https://localhost:8080/",
          "height": 213
        },
        "id": "mHG_jVxFjN2N",
        "outputId": "c085e0ec-39dc-4503-dd71-f289f52e5732"
      },
      "execution_count": 37,
      "outputs": [
        {
          "output_type": "execute_result",
          "data": {
            "text/plain": [
              "                                      Titulo  \\\n",
              "0  Operação do sistema de controle climático   \n",
              "1                                Touchscreen   \n",
              "2                         Mudança de marchas   \n",
              "\n",
              "                                            Conteudo  \\\n",
              "0  O Googlecar tem um sistema de controle climáti...   \n",
              "1  O seu Googlecar tem uma grande tela sensível a...   \n",
              "2  Seu Googlecar tem uma transmissão automática. ...   \n",
              "\n",
              "                                          embeddings  \n",
              "0  [-0.011010795, -0.026731547, -0.036728486, 0.0...  \n",
              "1  [0.015715627, -0.040427547, 0.011117627, 0.002...  \n",
              "2  [-0.009390755, -0.022475218, -0.0024638234, 0....  "
            ],
            "text/html": [
              "\n",
              "  <div id=\"df-bbd58359-f9d9-44a3-869d-67989c85cfca\" class=\"colab-df-container\">\n",
              "    <div>\n",
              "<style scoped>\n",
              "    .dataframe tbody tr th:only-of-type {\n",
              "        vertical-align: middle;\n",
              "    }\n",
              "\n",
              "    .dataframe tbody tr th {\n",
              "        vertical-align: top;\n",
              "    }\n",
              "\n",
              "    .dataframe thead th {\n",
              "        text-align: right;\n",
              "    }\n",
              "</style>\n",
              "<table border=\"1\" class=\"dataframe\">\n",
              "  <thead>\n",
              "    <tr style=\"text-align: right;\">\n",
              "      <th></th>\n",
              "      <th>Titulo</th>\n",
              "      <th>Conteudo</th>\n",
              "      <th>embeddings</th>\n",
              "    </tr>\n",
              "  </thead>\n",
              "  <tbody>\n",
              "    <tr>\n",
              "      <th>0</th>\n",
              "      <td>Operação do sistema de controle climático</td>\n",
              "      <td>O Googlecar tem um sistema de controle climáti...</td>\n",
              "      <td>[-0.011010795, -0.026731547, -0.036728486, 0.0...</td>\n",
              "    </tr>\n",
              "    <tr>\n",
              "      <th>1</th>\n",
              "      <td>Touchscreen</td>\n",
              "      <td>O seu Googlecar tem uma grande tela sensível a...</td>\n",
              "      <td>[0.015715627, -0.040427547, 0.011117627, 0.002...</td>\n",
              "    </tr>\n",
              "    <tr>\n",
              "      <th>2</th>\n",
              "      <td>Mudança de marchas</td>\n",
              "      <td>Seu Googlecar tem uma transmissão automática. ...</td>\n",
              "      <td>[-0.009390755, -0.022475218, -0.0024638234, 0....</td>\n",
              "    </tr>\n",
              "  </tbody>\n",
              "</table>\n",
              "</div>\n",
              "    <div class=\"colab-df-buttons\">\n",
              "\n",
              "  <div class=\"colab-df-container\">\n",
              "    <button class=\"colab-df-convert\" onclick=\"convertToInteractive('df-bbd58359-f9d9-44a3-869d-67989c85cfca')\"\n",
              "            title=\"Convert this dataframe to an interactive table.\"\n",
              "            style=\"display:none;\">\n",
              "\n",
              "  <svg xmlns=\"http://www.w3.org/2000/svg\" height=\"24px\" viewBox=\"0 -960 960 960\">\n",
              "    <path d=\"M120-120v-720h720v720H120Zm60-500h600v-160H180v160Zm220 220h160v-160H400v160Zm0 220h160v-160H400v160ZM180-400h160v-160H180v160Zm440 0h160v-160H620v160ZM180-180h160v-160H180v160Zm440 0h160v-160H620v160Z\"/>\n",
              "  </svg>\n",
              "    </button>\n",
              "\n",
              "  <style>\n",
              "    .colab-df-container {\n",
              "      display:flex;\n",
              "      gap: 12px;\n",
              "    }\n",
              "\n",
              "    .colab-df-convert {\n",
              "      background-color: #E8F0FE;\n",
              "      border: none;\n",
              "      border-radius: 50%;\n",
              "      cursor: pointer;\n",
              "      display: none;\n",
              "      fill: #1967D2;\n",
              "      height: 32px;\n",
              "      padding: 0 0 0 0;\n",
              "      width: 32px;\n",
              "    }\n",
              "\n",
              "    .colab-df-convert:hover {\n",
              "      background-color: #E2EBFA;\n",
              "      box-shadow: 0px 1px 2px rgba(60, 64, 67, 0.3), 0px 1px 3px 1px rgba(60, 64, 67, 0.15);\n",
              "      fill: #174EA6;\n",
              "    }\n",
              "\n",
              "    .colab-df-buttons div {\n",
              "      margin-bottom: 4px;\n",
              "    }\n",
              "\n",
              "    [theme=dark] .colab-df-convert {\n",
              "      background-color: #3B4455;\n",
              "      fill: #D2E3FC;\n",
              "    }\n",
              "\n",
              "    [theme=dark] .colab-df-convert:hover {\n",
              "      background-color: #434B5C;\n",
              "      box-shadow: 0px 1px 3px 1px rgba(0, 0, 0, 0.15);\n",
              "      filter: drop-shadow(0px 1px 2px rgba(0, 0, 0, 0.3));\n",
              "      fill: #FFFFFF;\n",
              "    }\n",
              "  </style>\n",
              "\n",
              "    <script>\n",
              "      const buttonEl =\n",
              "        document.querySelector('#df-bbd58359-f9d9-44a3-869d-67989c85cfca button.colab-df-convert');\n",
              "      buttonEl.style.display =\n",
              "        google.colab.kernel.accessAllowed ? 'block' : 'none';\n",
              "\n",
              "      async function convertToInteractive(key) {\n",
              "        const element = document.querySelector('#df-bbd58359-f9d9-44a3-869d-67989c85cfca');\n",
              "        const dataTable =\n",
              "          await google.colab.kernel.invokeFunction('convertToInteractive',\n",
              "                                                    [key], {});\n",
              "        if (!dataTable) return;\n",
              "\n",
              "        const docLinkHtml = 'Like what you see? Visit the ' +\n",
              "          '<a target=\"_blank\" href=https://colab.research.google.com/notebooks/data_table.ipynb>data table notebook</a>'\n",
              "          + ' to learn more about interactive tables.';\n",
              "        element.innerHTML = '';\n",
              "        dataTable['output_type'] = 'display_data';\n",
              "        await google.colab.output.renderOutput(dataTable, element);\n",
              "        const docLink = document.createElement('div');\n",
              "        docLink.innerHTML = docLinkHtml;\n",
              "        element.appendChild(docLink);\n",
              "      }\n",
              "    </script>\n",
              "  </div>\n",
              "\n",
              "\n",
              "<div id=\"df-1a8093d2-cb34-4e5c-b5e6-059b7f58f0cf\">\n",
              "  <button class=\"colab-df-quickchart\" onclick=\"quickchart('df-1a8093d2-cb34-4e5c-b5e6-059b7f58f0cf')\"\n",
              "            title=\"Suggest charts\"\n",
              "            style=\"display:none;\">\n",
              "\n",
              "<svg xmlns=\"http://www.w3.org/2000/svg\" height=\"24px\"viewBox=\"0 0 24 24\"\n",
              "     width=\"24px\">\n",
              "    <g>\n",
              "        <path d=\"M19 3H5c-1.1 0-2 .9-2 2v14c0 1.1.9 2 2 2h14c1.1 0 2-.9 2-2V5c0-1.1-.9-2-2-2zM9 17H7v-7h2v7zm4 0h-2V7h2v10zm4 0h-2v-4h2v4z\"/>\n",
              "    </g>\n",
              "</svg>\n",
              "  </button>\n",
              "\n",
              "<style>\n",
              "  .colab-df-quickchart {\n",
              "      --bg-color: #E8F0FE;\n",
              "      --fill-color: #1967D2;\n",
              "      --hover-bg-color: #E2EBFA;\n",
              "      --hover-fill-color: #174EA6;\n",
              "      --disabled-fill-color: #AAA;\n",
              "      --disabled-bg-color: #DDD;\n",
              "  }\n",
              "\n",
              "  [theme=dark] .colab-df-quickchart {\n",
              "      --bg-color: #3B4455;\n",
              "      --fill-color: #D2E3FC;\n",
              "      --hover-bg-color: #434B5C;\n",
              "      --hover-fill-color: #FFFFFF;\n",
              "      --disabled-bg-color: #3B4455;\n",
              "      --disabled-fill-color: #666;\n",
              "  }\n",
              "\n",
              "  .colab-df-quickchart {\n",
              "    background-color: var(--bg-color);\n",
              "    border: none;\n",
              "    border-radius: 50%;\n",
              "    cursor: pointer;\n",
              "    display: none;\n",
              "    fill: var(--fill-color);\n",
              "    height: 32px;\n",
              "    padding: 0;\n",
              "    width: 32px;\n",
              "  }\n",
              "\n",
              "  .colab-df-quickchart:hover {\n",
              "    background-color: var(--hover-bg-color);\n",
              "    box-shadow: 0 1px 2px rgba(60, 64, 67, 0.3), 0 1px 3px 1px rgba(60, 64, 67, 0.15);\n",
              "    fill: var(--button-hover-fill-color);\n",
              "  }\n",
              "\n",
              "  .colab-df-quickchart-complete:disabled,\n",
              "  .colab-df-quickchart-complete:disabled:hover {\n",
              "    background-color: var(--disabled-bg-color);\n",
              "    fill: var(--disabled-fill-color);\n",
              "    box-shadow: none;\n",
              "  }\n",
              "\n",
              "  .colab-df-spinner {\n",
              "    border: 2px solid var(--fill-color);\n",
              "    border-color: transparent;\n",
              "    border-bottom-color: var(--fill-color);\n",
              "    animation:\n",
              "      spin 1s steps(1) infinite;\n",
              "  }\n",
              "\n",
              "  @keyframes spin {\n",
              "    0% {\n",
              "      border-color: transparent;\n",
              "      border-bottom-color: var(--fill-color);\n",
              "      border-left-color: var(--fill-color);\n",
              "    }\n",
              "    20% {\n",
              "      border-color: transparent;\n",
              "      border-left-color: var(--fill-color);\n",
              "      border-top-color: var(--fill-color);\n",
              "    }\n",
              "    30% {\n",
              "      border-color: transparent;\n",
              "      border-left-color: var(--fill-color);\n",
              "      border-top-color: var(--fill-color);\n",
              "      border-right-color: var(--fill-color);\n",
              "    }\n",
              "    40% {\n",
              "      border-color: transparent;\n",
              "      border-right-color: var(--fill-color);\n",
              "      border-top-color: var(--fill-color);\n",
              "    }\n",
              "    60% {\n",
              "      border-color: transparent;\n",
              "      border-right-color: var(--fill-color);\n",
              "    }\n",
              "    80% {\n",
              "      border-color: transparent;\n",
              "      border-right-color: var(--fill-color);\n",
              "      border-bottom-color: var(--fill-color);\n",
              "    }\n",
              "    90% {\n",
              "      border-color: transparent;\n",
              "      border-bottom-color: var(--fill-color);\n",
              "    }\n",
              "  }\n",
              "</style>\n",
              "\n",
              "  <script>\n",
              "    async function quickchart(key) {\n",
              "      const quickchartButtonEl =\n",
              "        document.querySelector('#' + key + ' button');\n",
              "      quickchartButtonEl.disabled = true;  // To prevent multiple clicks.\n",
              "      quickchartButtonEl.classList.add('colab-df-spinner');\n",
              "      try {\n",
              "        const charts = await google.colab.kernel.invokeFunction(\n",
              "            'suggestCharts', [key], {});\n",
              "      } catch (error) {\n",
              "        console.error('Error during call to suggestCharts:', error);\n",
              "      }\n",
              "      quickchartButtonEl.classList.remove('colab-df-spinner');\n",
              "      quickchartButtonEl.classList.add('colab-df-quickchart-complete');\n",
              "    }\n",
              "    (() => {\n",
              "      let quickchartButtonEl =\n",
              "        document.querySelector('#df-1a8093d2-cb34-4e5c-b5e6-059b7f58f0cf button');\n",
              "      quickchartButtonEl.style.display =\n",
              "        google.colab.kernel.accessAllowed ? 'block' : 'none';\n",
              "    })();\n",
              "  </script>\n",
              "</div>\n",
              "\n",
              "  <div id=\"id_99785896-c1b7-4c4e-8931-dd9104f06f39\">\n",
              "    <style>\n",
              "      .colab-df-generate {\n",
              "        background-color: #E8F0FE;\n",
              "        border: none;\n",
              "        border-radius: 50%;\n",
              "        cursor: pointer;\n",
              "        display: none;\n",
              "        fill: #1967D2;\n",
              "        height: 32px;\n",
              "        padding: 0 0 0 0;\n",
              "        width: 32px;\n",
              "      }\n",
              "\n",
              "      .colab-df-generate:hover {\n",
              "        background-color: #E2EBFA;\n",
              "        box-shadow: 0px 1px 2px rgba(60, 64, 67, 0.3), 0px 1px 3px 1px rgba(60, 64, 67, 0.15);\n",
              "        fill: #174EA6;\n",
              "      }\n",
              "\n",
              "      [theme=dark] .colab-df-generate {\n",
              "        background-color: #3B4455;\n",
              "        fill: #D2E3FC;\n",
              "      }\n",
              "\n",
              "      [theme=dark] .colab-df-generate:hover {\n",
              "        background-color: #434B5C;\n",
              "        box-shadow: 0px 1px 3px 1px rgba(0, 0, 0, 0.15);\n",
              "        filter: drop-shadow(0px 1px 2px rgba(0, 0, 0, 0.3));\n",
              "        fill: #FFFFFF;\n",
              "      }\n",
              "    </style>\n",
              "    <button class=\"colab-df-generate\" onclick=\"generateWithVariable('df')\"\n",
              "            title=\"Generate code using this dataframe.\"\n",
              "            style=\"display:none;\">\n",
              "\n",
              "  <svg xmlns=\"http://www.w3.org/2000/svg\" height=\"24px\"viewBox=\"0 0 24 24\"\n",
              "       width=\"24px\">\n",
              "    <path d=\"M7,19H8.4L18.45,9,17,7.55,7,17.6ZM5,21V16.75L18.45,3.32a2,2,0,0,1,2.83,0l1.4,1.43a1.91,1.91,0,0,1,.58,1.4,1.91,1.91,0,0,1-.58,1.4L9.25,21ZM18.45,9,17,7.55Zm-12,3A5.31,5.31,0,0,0,4.9,8.1,5.31,5.31,0,0,0,1,6.5,5.31,5.31,0,0,0,4.9,4.9,5.31,5.31,0,0,0,6.5,1,5.31,5.31,0,0,0,8.1,4.9,5.31,5.31,0,0,0,12,6.5,5.46,5.46,0,0,0,6.5,12Z\"/>\n",
              "  </svg>\n",
              "    </button>\n",
              "    <script>\n",
              "      (() => {\n",
              "      const buttonEl =\n",
              "        document.querySelector('#id_99785896-c1b7-4c4e-8931-dd9104f06f39 button.colab-df-generate');\n",
              "      buttonEl.style.display =\n",
              "        google.colab.kernel.accessAllowed ? 'block' : 'none';\n",
              "\n",
              "      buttonEl.onclick = () => {\n",
              "        google.colab.notebook.generateWithVariable('df');\n",
              "      }\n",
              "      })();\n",
              "    </script>\n",
              "  </div>\n",
              "\n",
              "    </div>\n",
              "  </div>\n"
            ],
            "application/vnd.google.colaboratory.intrinsic+json": {
              "type": "dataframe",
              "variable_name": "df",
              "summary": "{\n  \"name\": \"df\",\n  \"rows\": 3,\n  \"fields\": [\n    {\n      \"column\": \"Titulo\",\n      \"properties\": {\n        \"dtype\": \"string\",\n        \"num_unique_values\": 3,\n        \"samples\": [\n          \"Opera\\u00e7\\u00e3o do sistema de controle clim\\u00e1tico\",\n          \"Touchscreen\",\n          \"Mudan\\u00e7a de marchas\"\n        ],\n        \"semantic_type\": \"\",\n        \"description\": \"\"\n      }\n    },\n    {\n      \"column\": \"Conteudo\",\n      \"properties\": {\n        \"dtype\": \"string\",\n        \"num_unique_values\": 3,\n        \"samples\": [\n          \"O Googlecar tem um sistema de controle clim\\u00e1tico que permite ajustar a temperatura e o fluxo de ar no carro. Para operar o sistema de controle clim\\u00e1tico, use os bot\\u00f5es e bot\\u00f5es localizados no console central.  Temperatura: O bot\\u00e3o de temperatura controla a temperatura dentro do carro. Gire o bot\\u00e3o no sentido hor\\u00e1rio para aumentar a temperatura ou no sentido anti-hor\\u00e1rio para diminuir a temperatura. Fluxo de ar: O bot\\u00e3o de fluxo de ar controla a quantidade de fluxo de ar dentro do carro. Gire o bot\\u00e3o no sentido hor\\u00e1rio para aumentar o fluxo de ar ou no sentido anti-hor\\u00e1rio para diminuir o fluxo de ar. Velocidade do ventilador: O bot\\u00e3o de velocidade do ventilador controla a velocidade do ventilador. Gire o bot\\u00e3o no sentido hor\\u00e1rio para aumentar a velocidade do ventilador ou no sentido anti-hor\\u00e1rio para diminuir a velocidade do ventilador. Modo: O bot\\u00e3o de modo permite que voc\\u00ea selecione o modo desejado. Os modos dispon\\u00edveis s\\u00e3o: Auto: O carro ajustar\\u00e1 automaticamente a temperatura e o fluxo de ar para manter um n\\u00edvel confort\\u00e1vel. Cool (Frio): O carro soprar\\u00e1 ar frio para dentro do carro. Heat: O carro soprar\\u00e1 ar quente para dentro do carro. Defrost (Descongelamento): O carro soprar\\u00e1 ar quente no para-brisa para descongel\\u00e1-lo.\",\n          \"O seu Googlecar tem uma grande tela sens\\u00edvel ao toque que fornece acesso a uma variedade de recursos, incluindo navega\\u00e7\\u00e3o, entretenimento e controle clim\\u00e1tico. Para usar a tela sens\\u00edvel ao toque, basta tocar no \\u00edcone desejado.  Por exemplo, voc\\u00ea pode tocar no \\u00edcone \\\"Navigation\\\" (Navega\\u00e7\\u00e3o) para obter dire\\u00e7\\u00f5es para o seu destino ou tocar no \\u00edcone \\\"Music\\\" (M\\u00fasica) para reproduzir suas m\\u00fasicas favoritas.\",\n          \"Seu Googlecar tem uma transmiss\\u00e3o autom\\u00e1tica. Para trocar as marchas, basta mover a alavanca de c\\u00e2mbio para a posi\\u00e7\\u00e3o desejada.  Park (Estacionar): Essa posi\\u00e7\\u00e3o \\u00e9 usada quando voc\\u00ea est\\u00e1 estacionado. As rodas s\\u00e3o travadas e o carro n\\u00e3o pode se mover. Marcha \\u00e0 r\\u00e9: Essa posi\\u00e7\\u00e3o \\u00e9 usada para dar r\\u00e9. Neutro: Essa posi\\u00e7\\u00e3o \\u00e9 usada quando voc\\u00ea est\\u00e1 parado em um sem\\u00e1foro ou no tr\\u00e2nsito. O carro n\\u00e3o est\\u00e1 em marcha e n\\u00e3o se mover\\u00e1 a menos que voc\\u00ea pressione o pedal do acelerador. Drive (Dirigir): Essa posi\\u00e7\\u00e3o \\u00e9 usada para dirigir para frente. Low: essa posi\\u00e7\\u00e3o \\u00e9 usada para dirigir na neve ou em outras condi\\u00e7\\u00f5es escorregadias.\"\n        ],\n        \"semantic_type\": \"\",\n        \"description\": \"\"\n      }\n    },\n    {\n      \"column\": \"embeddings\",\n      \"properties\": {\n        \"dtype\": \"object\",\n        \"semantic_type\": \"\",\n        \"description\": \"\"\n      }\n    }\n  ]\n}"
            }
          },
          "metadata": {},
          "execution_count": 37
        }
      ]
    },
    {
      "cell_type": "markdown",
      "source": [
        "Função para definir a semântica de acordo com o embedding definido anteriormente\n"
      ],
      "metadata": {
        "id": "jgbqHvHPlI1M"
      }
    },
    {
      "cell_type": "code",
      "source": [
        "def gerar_e_buscar_consulta(consulta, base, model):\n",
        "  embedding_da_consulta = genai.embed_content(model=model,\n",
        "                                              content=consulta,\n",
        "                                              task_type=\"RETRIEVAL_QUERY\")\n",
        "  produtos_escalares = np.dot(np.stack(df[\"embeddings\"]), embedding_da_consulta[\"embedding\"])\n",
        "  indice = np.argmax(produtos_escalares)\n",
        "  return df.iloc[indice][\"Conteudo\"]\n",
        "\n",
        "gerar_e_buscar_consulta(\"Ola mundo\", df, model)\n"
      ],
      "metadata": {
        "colab": {
          "base_uri": "https://localhost:8080/",
          "height": 157
        },
        "id": "OJi66YiPlQsj",
        "outputId": "22b7125c-abe8-47c2-f39a-3cd3a9d03eb0"
      },
      "execution_count": 39,
      "outputs": [
        {
          "output_type": "execute_result",
          "data": {
            "text/plain": [
              "'Seu Googlecar tem uma transmissão automática. Para trocar as marchas, basta mover a alavanca de câmbio para a posição desejada.  Park (Estacionar): Essa posição é usada quando você está estacionado. As rodas são travadas e o carro não pode se mover. Marcha à ré: Essa posição é usada para dar ré. Neutro: Essa posição é usada quando você está parado em um semáforo ou no trânsito. O carro não está em marcha e não se moverá a menos que você pressione o pedal do acelerador. Drive (Dirigir): Essa posição é usada para dirigir para frente. Low: essa posição é usada para dirigir na neve ou em outras condições escorregadias.'"
            ],
            "application/vnd.google.colaboratory.intrinsic+json": {
              "type": "string"
            }
          },
          "metadata": {},
          "execution_count": 39
        }
      ]
    },
    {
      "cell_type": "markdown",
      "source": [
        "Realizando consultas na base de documentos usando o embedding, ou seja, checando quando documento tem mais relações com a consulta"
      ],
      "metadata": {
        "id": "N4TlozQHn-Bq"
      }
    },
    {
      "cell_type": "code",
      "source": [
        "consulta = \"Como faço para trocar marchas em um carro do Google?\"\n",
        "\n",
        "trecho = gerar_e_buscar_consulta(consulta, df, model)\n",
        "print(trecho)"
      ],
      "metadata": {
        "colab": {
          "base_uri": "https://localhost:8080/",
          "height": 54
        },
        "id": "alwO01A_nViL",
        "outputId": "834b8c1c-a8fa-4285-d0ac-4cf0f8268f82"
      },
      "execution_count": 42,
      "outputs": [
        {
          "output_type": "stream",
          "name": "stdout",
          "text": [
            "Seu Googlecar tem uma transmissão automática. Para trocar as marchas, basta mover a alavanca de câmbio para a posição desejada.  Park (Estacionar): Essa posição é usada quando você está estacionado. As rodas são travadas e o carro não pode se mover. Marcha à ré: Essa posição é usada para dar ré. Neutro: Essa posição é usada quando você está parado em um semáforo ou no trânsito. O carro não está em marcha e não se moverá a menos que você pressione o pedal do acelerador. Drive (Dirigir): Essa posição é usada para dirigir para frente. Low: essa posição é usada para dirigir na neve ou em outras condições escorregadias.\n"
          ]
        }
      ]
    },
    {
      "cell_type": "markdown",
      "source": [
        "Usando agora a geração de texto do gemini para dar uma animada no texto retirado do documento anteriormente"
      ],
      "metadata": {
        "id": "lbBy0sCXp235"
      }
    },
    {
      "cell_type": "code",
      "source": [
        "prompt = f\"Reescreva o texto a seguir de uma forma mais descontraída, sem adicionar nem tirar nenhuma informação: {trecho}\"\n",
        "\n",
        "model_prompt = genai.GenerativeModel(\"gemini-1.0-pro\")\n",
        "response = model_prompt.generate_content(prompt)\n",
        "print(response.text)"
      ],
      "metadata": {
        "colab": {
          "base_uri": "https://localhost:8080/",
          "height": 193
        },
        "id": "hfS-sX6ioSCg",
        "outputId": "eae5a2e4-0fab-4c8d-95e0-22a05a8337cc"
      },
      "execution_count": 44,
      "outputs": [
        {
          "output_type": "stream",
          "name": "stdout",
          "text": [
            "**Seu Googlecar estiloso: um carango automático da hora**\n",
            "\n",
            "Pra trocar a marcha do seu Googlecar irado, é só dar uma cutucada na alavanca de câmbio:\n",
            "\n",
            "* **Estacionamento (Park):** Chame essa de modo \"tranquilo\", porque ele trava as rodas e deixa o carango paradinho no lugar.\n",
            "* **Marcha à ré:** Hora de voltar a fita! Use essa posição pra engatar a ré.\n",
            "* **Neutro:** Tá parado no sinal ou no trânsito? Essa é a posição de \"ponto morto\", onde o bicho não anda nem pra frente nem pra trás.\n",
            "* **Dirigir (Drive):** Se liga, é hora de acelerar! Use essa posição pra dar um gás e acelerar.\n",
            "* **Baixa velocidade (Low):** Quando o piso estiver escorregando que nem gelo, essa posição vai te ajudar a manter o controle e evitar sustos.\n"
          ]
        }
      ]
    },
    {
      "cell_type": "markdown",
      "source": [],
      "metadata": {
        "id": "BkghFwy7p1HX"
      }
    }
  ]
}